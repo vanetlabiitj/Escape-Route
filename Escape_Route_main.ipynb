{
  "nbformat": 4,
  "nbformat_minor": 0,
  "metadata": {
    "colab": {
      "provenance": [],
      "gpuType": "T4"
    },
    "kernelspec": {
      "name": "python3",
      "display_name": "Python 3"
    },
    "language_info": {
      "name": "python"
    },
    "accelerator": "GPU"
  },
  "cells": [
    {
      "cell_type": "code",
      "execution_count": 1,
      "metadata": {
        "id": "I9HQY_81AHCW"
      },
      "outputs": [],
      "source": [
        "import torch\n",
        "from torch.utils.data import Dataset\n",
        "import json\n",
        "import numpy as np\n",
        "import torch.nn as nn\n",
        "import numpy as np\n",
        "import torch.optim as optim\n",
        "from torch.autograd import Variable\n",
        "from math import sqrt\n",
        "from time import time\n",
        "import argparse"
      ]
    },
    {
      "cell_type": "code",
      "source": [
        "!dir"
      ],
      "metadata": {
        "colab": {
          "base_uri": "https://localhost:8080/"
        },
        "id": "Qs4VKeqVLptn",
        "outputId": "f49b9265-99e5-4e3c-a45f-fdb0963c4a63"
      },
      "execution_count": 2,
      "outputs": [
        {
          "output_type": "stream",
          "name": "stdout",
          "text": [
            "flow.zip  path.zip  poi.zip  sample_data  time.npy  weather-final.npy\n"
          ]
        }
      ]
    },
    {
      "cell_type": "code",
      "source": [
        "!unzip flow.zip\n",
        "!unzip path.zip\n",
        "!unzip poi.zip"
      ],
      "metadata": {
        "colab": {
          "base_uri": "https://localhost:8080/"
        },
        "id": "Ks3806bzLl3O",
        "outputId": "ce687f8a-8521-411e-d626-90e655820afb"
      },
      "execution_count": 3,
      "outputs": [
        {
          "output_type": "stream",
          "name": "stdout",
          "text": [
            "Archive:  flow.zip\n",
            "  inflating: flow/flow_bike_nyc_irregular.json  \n",
            "  inflating: flow/flow_bike_nyc_regular.json  \n",
            "Archive:  path.zip\n",
            "  inflating: path/irregular_path.npy  \n",
            "  inflating: path/regular_path.npy   \n",
            "Archive:  poi.zip\n",
            "  inflating: poi/irregular_feature.npy  \n",
            "  inflating: poi/irregular_idx.npy   \n",
            "  inflating: poi/irregular_label.npy  \n",
            "  inflating: poi/irregular_weight.npy  \n",
            "  inflating: poi/regular_feature.npy  \n",
            "  inflating: poi/regular_idx.npy     \n",
            "  inflating: poi/regular_label.npy   \n",
            "  inflating: poi/regular_weight.npy  \n"
          ]
        }
      ]
    },
    {
      "cell_type": "code",
      "source": [
        "class PopulationDataset(Dataset):\n",
        "\n",
        "    def __init__(self,\n",
        "                 division='regular',\n",
        "                 T=5,\n",
        "                 type='train'):\n",
        "        len_t = 24 * (31 + 31 + 30)\n",
        "        N = len_t - T\n",
        "        N_train = int(N * 0.8)\n",
        "        N_val = int(N * 0.1)\n",
        "        N_test = int(N * 0.1)\n",
        "        weekend = [i for i in range(1, 93, 7)] + [i for i in range(2, 93, 7)] + [4, 66]\n",
        "        T_SLOT = 24\n",
        "        C = 2\n",
        "        if division == 'regular':\n",
        "            H = 16\n",
        "            W = 8\n",
        "            num_node = H * W\n",
        "            raw_data = json.load(open(\"flow/flow_bike_nyc_regular.json\"))\n",
        "        elif division == 'irregular':\n",
        "            num_node = 82\n",
        "            raw_data = json.load(open(\"flow/flow_bike_nyc_irregular.json\"))\n",
        "\n",
        "        dataset = np.zeros((C, len_t, num_node), dtype=np.float32)\n",
        "        data1 = raw_data['inflow']\n",
        "        data2 = raw_data['outflow']\n",
        "\n",
        "\n",
        "        weather = np.load(\"/content/weather-final.npy\")\n",
        "        time = np.load(\"/content/time.npy\")\n",
        "\n",
        "        for node_no in range(num_node):\n",
        "            dataset[0, :, node_no] = np.array(data1[str(node_no)])\n",
        "            dataset[1, :, node_no] = np.array(data2[str(node_no)])\n",
        "\n",
        "        if type == 'train':\n",
        "            xy = np.zeros((N_train, C, T + 1, num_node), dtype=np.float32)\n",
        "            x_t = np.zeros((N_train, T), dtype=np.int64)\n",
        "            w_t = np.zeros((N_train, T + 1, weather.shape[1]), dtype=np.float32)\n",
        "            t_t = np.zeros((N_train, T + 1, time.shape[1]), dtype=np.float32)\n",
        "\n",
        "            for t in range(N_train):\n",
        "                xy[t, :, :, :] = dataset[:, t:t + T + 1, :]\n",
        "                w_t[t,:] = weather[t:t + T + 1,:]\n",
        "                t_t[t,:] = time[t:t + T + 1,:]\n",
        "                if (t + T + 1) // T_SLOT + 1 in weekend:\n",
        "                    x_t[t, :] = np.arange(t, t + T) % T_SLOT + T_SLOT\n",
        "                else:\n",
        "                    x_t[t, :] = np.arange(t, t + T) % T_SLOT\n",
        "\n",
        "        elif type == 'val':\n",
        "            xy = np.zeros((N_val, C, T + 1, num_node), dtype=np.float32)\n",
        "            x_t = np.zeros((N_val, T), dtype=np.int64)\n",
        "            w_t = np.zeros((N_val, T + 1, weather.shape[1]), dtype=np.float32)\n",
        "            t_t = np.zeros((N_val, T + 1, time.shape[1]), dtype=np.float32)\n",
        "\n",
        "            for t in range(N_train, N_train + N_val):\n",
        "                xy[t - N_train, :, :, :] = dataset[:, t:t + T + 1, :]\n",
        "                w_t[t- N_train,:] = weather[t:t + T + 1,:]\n",
        "                t_t[t- N_train,:] = time[t:t + T + 1,:]\n",
        "                if (t + T + 1) // T_SLOT + 1 in weekend:\n",
        "                    x_t[t - N_train, :] = np.arange(t, t + T) % T_SLOT + T_SLOT\n",
        "                else:\n",
        "                    x_t[t - N_train, :] = np.arange(t, t + T) % T_SLOT\n",
        "\n",
        "        elif type == 'test':\n",
        "            xy = np.zeros((N_test, C, T + 1, num_node), dtype=np.float32)\n",
        "            x_t = np.zeros((N_test, T), dtype=np.int64)\n",
        "            w_t = np.zeros((N_test, T + 1, weather.shape[1]), dtype=np.float32)\n",
        "            t_t = np.zeros((N_test, T + 1, time.shape[1]), dtype=np.float32)\n",
        "\n",
        "            for t in range(N_train + N_val, N_train + N_val + N_test):\n",
        "                xy[t - N_train - N_val, :, :, :] = dataset[:, t:t + T + 1, :]\n",
        "                w_t[t - N_train - N_val,:] = weather[t:t + T + 1,:]\n",
        "                t_t[t - N_train - N_val,:] = time[t:t + T + 1,:]\n",
        "                if (t + T + 1) // T_SLOT + 1 in weekend:\n",
        "                    x_t[t - N_train - N_val, :] = np.arange(t, t + T) % T_SLOT + T_SLOT\n",
        "                else:\n",
        "                    x_t[t - N_train - N_val, :] = np.arange(t, t + T) % T_SLOT\n",
        "\n",
        "        self.x_data = torch.from_numpy(xy[:, :, 0:-1, :])\n",
        "        self.x_t = torch.from_numpy(x_t)\n",
        "        self.w_t = torch.from_numpy(w_t[:,0:-1,:])\n",
        "        self.t_t = torch.from_numpy(t_t[:,0:-1,:])\n",
        "        self.y_data = torch.from_numpy(xy[:, :, -1, :])\n",
        "        self.len = xy.shape[0]\n",
        "\n",
        "    def __getitem__(self, index):\n",
        "        return self.x_data[index], self.x_t[index], self.y_data[index], self.w_t[index], self.t_t[index]\n",
        "\n",
        "    def __len__(self):\n",
        "        return self.len"
      ],
      "metadata": {
        "id": "wP0QRYkzJ2f1"
      },
      "execution_count": 4,
      "outputs": []
    },
    {
      "cell_type": "markdown",
      "source": [
        "# Model"
      ],
      "metadata": {
        "id": "OkMW91QHJ9Sk"
      }
    },
    {
      "cell_type": "code",
      "source": [
        "class Model(nn.Module):\n",
        "\n",
        "    def __init__(self,\n",
        "                 division='regular',\n",
        "                 C=2,\n",
        "                 K=9,\n",
        "                 T=5):\n",
        "        super(Model, self).__init__()\n",
        "\n",
        "        self.T_SLOT = 24\n",
        "        self.K = K\n",
        "        self.T = T\n",
        "        self.Gamma = 1\n",
        "\n",
        "        A = np.load('path/' + division + '_path.npy')\n",
        "        A_0 = A[:, :, :, 0]\n",
        "        A_sum = np.sum(A[:, :, :, 1:], axis=3)\n",
        "        for i in range(1, K + 1):\n",
        "            A[:, :, :, i] = A_sum\n",
        "        self.A = torch.Tensor(A)\n",
        "\n",
        "        feature = np.load('poi/' + division + '_feature.npy').astype(np.float32)\n",
        "\n",
        "        feature_size = np.size(feature, 1)\n",
        "        V = np.size(feature, 0)\n",
        "        self.F = torch.Tensor(feature)\n",
        "        self.A_mean = torch.Tensor(np.mean(A_0 + A_sum, axis=0)).permute(1, 0).contiguous()\n",
        "        self.I = torch.ones(V, V, 1)\n",
        "\n",
        "        self.networks = nn.ModuleList([\n",
        "            DGCN(C_in=C, C_out=32, kernel_size=(2 * self.Gamma + 1, K + 1)),\n",
        "            DGCN(C_in=32, C_out=64, kernel_size=(2 * self.Gamma + 1, K + 1)),\n",
        "            DGCN(C_in=64, C_out=32, kernel_size=(2 * self.Gamma + 1, K + 1)),\n",
        "            DGCN(C_in=32, C_out=16, kernel_size=(2 * self.Gamma + 1, K + 1)),\n",
        "        ])\n",
        "\n",
        "        self.gru = nn.GRU(input_size=8, hidden_size=2, num_layers=8, batch_first=True)\n",
        "        self.maxpool = nn.MaxPool2d(kernel_size=(T, 1), stride=(1, 1))\n",
        "\n",
        "        self.semi1 = nn.Linear(feature_size, 16)\n",
        "        self.semi2 = nn.Linear(16, K)\n",
        "        self.LeakyReLU = nn.LeakyReLU()\n",
        "        self.Softmax = nn.Softmax()\n",
        "        self.temporal_conv = nn.Conv2d(16, C, kernel_size=(T, 1))\n",
        "        self.gru_conv = nn.Conv2d(1, C, kernel_size=(T, 1))\n",
        "        self.maxpool_conv = nn.Conv2d(16, C, kernel_size=(1, 1))\n",
        "        self.gru_time = nn.GRU(input_size=2, hidden_size=2, num_layers=1, batch_first=True)\n",
        "        self.weights = nn.Parameter(torch.rand(4))\n",
        "        self.conv1d_layer = nn.Conv1d(in_channels = 2, out_channels=2, kernel_size=3, stride=1, padding=1)\n",
        "\n",
        "    def forward(self, x, x_t, idx, w_t, t_t):\n",
        "        N, C, T, V = x.size()\n",
        "        last = x[:, :, -1, :]\n",
        "        Y1 = self.LeakyReLU(torch.mm(self.A_mean, self.semi1(self.F)))\n",
        "        Y2 = self.LeakyReLU(torch.mm(self.A_mean, self.semi2(Y1)))\n",
        "        Y = torch.index_select(Y2, 0, idx)\n",
        "        Z = self.Softmax(Y2)\n",
        "        A_K = self.A * torch.cat((self.I, Z.repeat(V, 1, 1)), dim=2).repeat(self.T_SLOT * 2, 1, 1, 1)\n",
        "        x_t = x_t.view(N * T)\n",
        "        x_A = torch.index_select(A_K, 0, x_t)\n",
        "        x_A = x_A.view(N, T, V, V, -1)\n",
        "        for dgcn in self.networks:\n",
        "            x = dgcn(x, x_A)\n",
        "        # Perform maxpool on input X\n",
        "        output3 = self.maxpool(x)\n",
        "        output3 = self.maxpool_conv(output3)\n",
        "        output3 = output3.squeeze(-2)\n",
        "        # Temporal convolution on input X\n",
        "        x = self.temporal_conv(x)\n",
        "        output1 = x.view(N,-1,V)\n",
        "        # Gru for weather data\n",
        "        output2, _ = self.gru(w_t)\n",
        "        output2 = output2.unsqueeze(0)\n",
        "        output2 = output2.permute(1,0,2,3)\n",
        "        output2 = self.gru_conv(output2)\n",
        "        output2 = output2.view(N,-1,2)\n",
        "        output2 = output2[:, :, 0:1]\n",
        "        output2 = output2.squeeze(-1)\n",
        "        output2 = output2.unsqueeze(2)\n",
        "        # Gru for time data\n",
        "        output4, _ = self.gru_time(t_t)\n",
        "        output4 = output4.unsqueeze(0)\n",
        "        output4 = output4.permute(1,0,2,3)\n",
        "        output4 = self.gru_conv(output4)\n",
        "        output4 = output4.view(N,-1,2)\n",
        "        output4 = output4[:, :, 0:1]\n",
        "        output4 = output4.squeeze(-1)\n",
        "        output4 = output4.unsqueeze(2)\n",
        "        # weights calculation\n",
        "        weighted_tensor1 = output1 * self.weights[0]\n",
        "        weighted_tensor2 = output2 * self.weights[1]\n",
        "        weighted_tensor3 = output3 * self.weights[2]\n",
        "        weighted_tensor4 = output4 * self.weights[3]\n",
        "        # weighted fusion\n",
        "        weighted_fusion_tensor = weighted_tensor1 + weighted_tensor2 + weighted_tensor3 + weighted_tensor4\n",
        "        # Compute the gating factor\n",
        "        gate_factor = 0.8\n",
        "        #print(gate_factor)\n",
        "        fused_features = gate_factor * output1 + (1 - gate_factor) * (weighted_tensor2 + weighted_tensor3 + weighted_tensor4) + weighted_fusion_tensor\n",
        "        # resulted tensor\n",
        "        result = fused_features + last\n",
        "        result = self.conv1d_layer(result)\n",
        "        return result, Y\n",
        "\n",
        "\n",
        "class DGCN(nn.Module):\n",
        "\n",
        "    def __init__(self,\n",
        "                 C_in,\n",
        "                 C_out,\n",
        "                 kernel_size):\n",
        "        super(DGCN, self).__init__()\n",
        "\n",
        "        self.K = kernel_size[1] - 1\n",
        "        self.C_out = C_out\n",
        "        self.conv = nn.Sequential(nn.BatchNorm3d(C_in),\n",
        "                                  nn.ReLU(inplace=True),\n",
        "                                  nn.Conv3d(C_in,\n",
        "                                            C_out,\n",
        "                                            kernel_size=(kernel_size[0], 1, kernel_size[1]),\n",
        "                                            padding=(1, 0, 0),\n",
        "                                            stride=(1, 1, 1),\n",
        "                                            bias=True),\n",
        "                                  nn.BatchNorm3d(C_out),\n",
        "                                  nn.Dropout3d(p=0.2, inplace=True))\n",
        "\n",
        "        self.relu = nn.ReLU(inplace=True)\n",
        "\n",
        "    def forward(self, x, x_A):\n",
        "\n",
        "        N, C, T, V = x.size()\n",
        "\n",
        "        x_reshape = x.permute(0, 2, 1, 3).contiguous().view(N * T, C, V)\n",
        "        A_reshape = x_A.view(N * T, V, V * (self.K + 1)).contiguous()\n",
        "        x = torch.bmm(x_reshape, A_reshape).view(N, T, C, V, (self.K + 1)).permute(0, 2, 1, 3, 4).contiguous()\n",
        "        x = self.conv(x).view(N, self.C_out, T, V)\n",
        "\n",
        "        return self.relu(x)\n"
      ],
      "metadata": {
        "id": "bdj3ZmKhJ2fH"
      },
      "execution_count": 20,
      "outputs": []
    },
    {
      "cell_type": "markdown",
      "source": [
        "## main Block"
      ],
      "metadata": {
        "id": "BZApoDIJKS9G"
      }
    },
    {
      "cell_type": "code",
      "source": [
        "def train(model, train_loader, optimizer, criterion, epoch, label, label_idx, label_weight, theta):\n",
        "    model.train()\n",
        "    train_loss = 0\n",
        "    # Define the weight decay (L2 regularization) hyperparameter\n",
        "    weight_decay = 0.001\n",
        "    # Calculate the regularization term\n",
        "    regularization_loss = 0\n",
        "\n",
        "    for batch_idx, (data, x_t, target, w_t, t_t) in enumerate(train_loader):\n",
        "        data, x_t, target, w_t, t_t = Variable(data).cuda(), Variable(x_t).cuda(), Variable(target).cuda(), Variable(w_t).cuda(), Variable(t_t).cuda()\n",
        "        optimizer.zero_grad()\n",
        "        output, y = model(data, x_t, label_idx, w_t, t_t)\n",
        "        loss1 = criterion(output, target)\n",
        "        loss2 = nn.functional.cross_entropy(y, label, weight=label_weight)\n",
        "        for param in model.parameters():\n",
        "               regularization_loss += torch.norm(param, 2)\n",
        "        loss = loss1 + loss2 * theta + weight_decay * regularization_loss.item()\n",
        "\n",
        "        loss.backward()\n",
        "        optimizer.step()\n",
        "        if batch_idx % 20 == 0:\n",
        "            #print (\"Hello \",epoch, batch_idx, len(data), len(train_loader.dataset),100*batch_idx/len(train_loader),loss1.data.item())\n",
        "            print (\"Epoch: %d [%d/%d (%.0f%%)]\\tLoss: %.6f\\tLabel Loss: %.6f\" % (epoch, batch_idx * len(data), len(train_loader.dataset), 100. * batch_idx / len(train_loader), sqrt(loss1.data.item()), loss2.data.item()))\n",
        "        train_loss += loss1.data.item() * len(data)\n",
        "    return sqrt(train_loss/ len(train_loader.dataset))\n",
        "\n",
        "\n",
        "def val(model, val_loader, criterion, epoch, label_idx):\n",
        "    model.eval()\n",
        "    val_loss = 0\n",
        "    absolute_errors = 0  # Variable to store the sum of absolute errors\n",
        "    squared_errors = 0\n",
        "    num_samples = 0\n",
        "    for batch_idx, (data, x_t, target, w_t, t_t) in enumerate(val_loader):\n",
        "        data, x_t, target, w_t, t_t = Variable(data).cuda(), Variable(x_t).cuda(), Variable(target).cuda(), Variable(w_t).cuda(), Variable(t_t).cuda()\n",
        "        output, _ = model(data, x_t, label_idx, w_t, t_t)\n",
        "        loss = criterion(output, target)\n",
        "        val_loss += loss.data.item() * len(data)\n",
        "         # Calculate absolute and squared errors\n",
        "        absolute_errors += torch.sum(torch.abs(output - target)).item()/164\n",
        "        squared_errors += torch.sum((output - target) ** 2).item()/164\n",
        "\n",
        "        num_samples += len(data)\n",
        "\n",
        "    print (\"\\nEpoch: %d \\tVal Loss: %.6f\" % (epoch, sqrt(val_loss / len(val_loader.dataset))))\n",
        "    val_mae = absolute_errors / len(val_loader.dataset)\n",
        "    val_rmse = sqrt(squared_errors / len(val_loader.dataset))\n",
        "    val_loss = sqrt(val_loss / len(val_loader.dataset))\n",
        "\n",
        "    return val_loss, val_mae, val_rmse\n",
        "\n",
        "\n",
        "def test(model, test_loader, criterion, epoch, label_idx):\n",
        "    model.eval()\n",
        "    test_loss = 0\n",
        "    absolute_errors = 0  # Variable to store the sum of absolute errors\n",
        "    squared_errors = 0\n",
        "    num_samples = 0\n",
        "    for batch_idx, (data, x_t, target, w_t, t_t) in enumerate(test_loader):\n",
        "        data, x_t, target, w_t, t_t = Variable(data).cuda(), Variable(x_t).cuda(), Variable(target).cuda(), Variable(w_t).cuda(), Variable(t_t).cuda()\n",
        "        output, _ = model(data, x_t, label_idx, w_t, t_t)\n",
        "        loss = criterion(output, target)\n",
        "        test_loss += loss.data.item()* len(data)\n",
        "         # Calculate absolute and squared errors\n",
        "        absolute_errors += torch.sum(torch.abs(output - target)).item()/164\n",
        "        squared_errors += torch.sum((output - target) ** 2).item()/164\n",
        "\n",
        "        num_samples += len(data)\n",
        "\n",
        "    print (\"Epoch: %d \\tTest Loss: %.6f\\n\" % (epoch, sqrt(test_loss / len(test_loader.dataset))))\n",
        "    test_mae = absolute_errors / len(test_loader.dataset)\n",
        "    test_rmse = sqrt(squared_errors / len(test_loader.dataset))\n",
        "    test_loss = sqrt(test_loss / len(test_loader.dataset))\n",
        "\n",
        "\n",
        "    return test_loss, test_mae, test_rmse"
      ],
      "metadata": {
        "id": "mG6bRyQwKc76"
      },
      "execution_count": 21,
      "outputs": []
    },
    {
      "cell_type": "markdown",
      "source": [
        "## main Function"
      ],
      "metadata": {
        "id": "ohnAFFrPNvY1"
      }
    },
    {
      "cell_type": "code",
      "source": [
        "class Args:\n",
        "  batch = 64\n",
        "  test_batch = 32\n",
        "  epoch = 1600\n",
        "  lr = 0.001\n",
        "  seed = 1\n",
        "  division = 'irregular'\n",
        "  K = 9\n",
        "  C = 2\n",
        "  T = 5\n",
        "  theta = 10\n",
        "  load = 0\n",
        "\n",
        "args=Args()"
      ],
      "metadata": {
        "id": "kDe4WWGssb6z"
      },
      "execution_count": 22,
      "outputs": []
    },
    {
      "cell_type": "code",
      "source": [
        "def main():\n",
        "\n",
        "    train_loader = torch.utils.data.DataLoader(PopulationDataset(division=args.division,\n",
        "                                                                 T=args.T,\n",
        "                                                                 type='train'),\n",
        "                                               batch_size=args.test_batch,\n",
        "                                               shuffle=True)\n",
        "\n",
        "    val_loader = torch.utils.data.DataLoader(PopulationDataset(division=args.division,\n",
        "                                                               T=args.T,\n",
        "                                                               type='val'),\n",
        "                                             batch_size=args.test_batch,\n",
        "                                             shuffle=False)\n",
        "\n",
        "    test_loader = torch.utils.data.DataLoader(PopulationDataset(division=args.division,\n",
        "                                                                T=args.T,\n",
        "                                                                type='test'),\n",
        "                                              batch_size=args.test_batch,\n",
        "                                              shuffle=False)\n",
        "\n",
        "    model = Model(division=args.division,\n",
        "                  C=args.C,\n",
        "                  K=args.K,\n",
        "                  T=args.T)\n",
        "\n",
        "    torch.cuda.set_device(0)\n",
        "    torch.manual_seed(args.seed)\n",
        "    model = model.cuda()\n",
        "\n",
        "    model.A = Variable(model.A).cuda()\n",
        "    model.F = Variable(model.F).cuda()\n",
        "    model.A_mean = Variable(model.A_mean).cuda()\n",
        "    model.I = Variable(model.I).cuda()\n",
        "\n",
        "    label = np.load('poi/' + args.division + '_label.npy').astype(np.int64)\n",
        "    label_idx = np.load('poi/' + args.division + '_idx.npy').astype(np.int64)\n",
        "    label_weight = np.load('poi/' + args.division + '_weight.npy').astype(np.float32)\n",
        "\n",
        "    label = torch.from_numpy(label[label_idx])\n",
        "    label_idx = torch.from_numpy(label_idx)\n",
        "    label_weight = torch.from_numpy(label_weight)\n",
        "    label = Variable(label).cuda()\n",
        "    label_idx = Variable(label_idx).cuda()\n",
        "    label_weight = Variable(label_weight).cuda()\n",
        "\n",
        "    if args.load > 0:\n",
        "        model.load_state_dict(torch.load('checkpoint/epoch_' + str(args.load) + '.tar'))\n",
        "\n",
        "    optimizer = optim.Adam(model.parameters(), lr=args.lr)\n",
        "    criterion = nn.SmoothL1Loss(size_average=True)\n",
        "    loss = np.zeros((3, args.epoch), dtype=np.float32)\n",
        "    mae = np.zeros((2, args.epoch), dtype=np.float32)\n",
        "    rmse = np.zeros((2, args.epoch), dtype=np.float32)\n",
        "\n",
        "    val_loss_min = 100\n",
        "    test_loss_min = 100\n",
        "\n",
        "    for epoch in range(1 + args.load, args.epoch + 1 + args.load):\n",
        "        start = time()\n",
        "        train_loss = train(model, train_loader, optimizer, criterion, epoch, label, label_idx, label_weight, args.theta)\n",
        "        stop = time()\n",
        "        print (\"Time used: %.0f\" % (stop - start))\n",
        "        loss[0, epoch - args.load - 1] = train_loss\n",
        "\n",
        "        with torch.no_grad():\n",
        "          val_loss, val_mae, val_rmse = val(model, val_loader, criterion, epoch, label_idx)\n",
        "          test_loss, test_mae, test_rmse = test(model, test_loader, criterion, epoch, label_idx)\n",
        "          loss[1, epoch - args.load - 1] = val_loss\n",
        "          loss[2, epoch - args.load - 1] = test_loss\n",
        "          mae[0, epoch - args.load - 1] = val_mae\n",
        "          mae[1, epoch - args.load - 1] = test_mae\n",
        "          rmse[0, epoch - args.load - 1] = val_rmse\n",
        "          rmse[1, epoch - args.load - 1] = test_rmse\n",
        "          if val_loss < val_loss_min:\n",
        "            val_loss_min = val_loss\n",
        "            test_loss_min = test_loss\n",
        "        if epoch % 100 == 0:\n",
        "            torch.save(model.state_dict(), 'checkpoint/epoch_' + str(epoch) + '.tar')\n",
        "\n",
        "    np.save('checkpoint/loss.npy', loss)\n",
        "    np.save('checkpoint/mae.npy', mae)\n",
        "    np.save('checkpoint/rmse.npy', rmse)\n",
        "    #np.save('checkpoint/valmae.npy', val_mae')\n",
        "    # print(\"Val RMSE: %.4f \\tTest RMSE: %.4f\\n\" % (\n",
        "    #     val_loss_min, test_loss_min))\n",
        "    weights = model.weights\n",
        "    print(weights)\n",
        "    print(\"Val RMSE: %.4f \\tTest RMSE: %.4f\\n\" % (val_loss_min, test_loss_min))\n",
        "\n",
        "\n",
        "if __name__ == '__main__':\n",
        "    main()"
      ],
      "metadata": {
        "colab": {
          "base_uri": "https://localhost:8080/"
        },
        "id": "vYVDl64RK1FX",
        "outputId": "5d6961c2-c77d-4171-b91f-012f791e96cd"
      },
      "execution_count": null,
      "outputs": [
        {
          "output_type": "stream",
          "name": "stderr",
          "text": [
            "/usr/local/lib/python3.10/dist-packages/torch/nn/_reduction.py:42: UserWarning: size_average and reduce args will be deprecated, please use reduction='mean' instead.\n",
            "  warnings.warn(warning.format(ret))\n",
            "<ipython-input-20-cb1fea87c705>:57: UserWarning: Implicit dimension choice for softmax has been deprecated. Change the call to include dim=X as an argument.\n",
            "  Z = self.Softmax(Y2)\n"
          ]
        },
        {
          "output_type": "stream",
          "name": "stdout",
          "text": [
            "Epoch: 1 [0/1762 (0%)]\tLoss: 7.521389\tLabel Loss: 2.217490\n",
            "Epoch: 1 [640/1762 (36%)]\tLoss: 5.698050\tLabel Loss: 2.172324\n",
            "Epoch: 1 [1280/1762 (71%)]\tLoss: 6.486360\tLabel Loss: 2.145652\n",
            "Time used: 2\n",
            "\n",
            "Epoch: 1 \tVal Loss: 6.793042\n",
            "Epoch: 1 \tTest Loss: 6.626428\n",
            "\n",
            "Epoch: 2 [0/1762 (0%)]\tLoss: 5.710090\tLabel Loss: 2.119770\n",
            "Epoch: 2 [640/1762 (36%)]\tLoss: 6.178201\tLabel Loss: 2.085419\n",
            "Epoch: 2 [1280/1762 (71%)]\tLoss: 5.794003\tLabel Loss: 2.051570\n",
            "Time used: 2\n",
            "\n",
            "Epoch: 2 \tVal Loss: 6.129508\n",
            "Epoch: 2 \tTest Loss: 5.972206\n",
            "\n",
            "Epoch: 3 [0/1762 (0%)]\tLoss: 5.584425\tLabel Loss: 1.998629\n",
            "Epoch: 3 [640/1762 (36%)]\tLoss: 5.279066\tLabel Loss: 1.940767\n",
            "Epoch: 3 [1280/1762 (71%)]\tLoss: 5.473064\tLabel Loss: 1.881267\n",
            "Time used: 2\n",
            "\n",
            "Epoch: 3 \tVal Loss: 5.599814\n",
            "Epoch: 3 \tTest Loss: 5.449750\n",
            "\n",
            "Epoch: 4 [0/1762 (0%)]\tLoss: 4.753785\tLabel Loss: 1.825627\n",
            "Epoch: 4 [640/1762 (36%)]\tLoss: 4.703258\tLabel Loss: 1.754292\n",
            "Epoch: 4 [1280/1762 (71%)]\tLoss: 4.928685\tLabel Loss: 1.696511\n",
            "Time used: 2\n",
            "\n",
            "Epoch: 4 \tVal Loss: 5.146949\n",
            "Epoch: 4 \tTest Loss: 5.001884\n",
            "\n",
            "Epoch: 5 [0/1762 (0%)]\tLoss: 5.385740\tLabel Loss: 1.657594\n",
            "Epoch: 5 [640/1762 (36%)]\tLoss: 4.935274\tLabel Loss: 1.612492\n",
            "Epoch: 5 [1280/1762 (71%)]\tLoss: 4.362863\tLabel Loss: 1.571493\n",
            "Time used: 2\n",
            "\n",
            "Epoch: 5 \tVal Loss: 4.708811\n",
            "Epoch: 5 \tTest Loss: 4.562915\n",
            "\n",
            "Epoch: 6 [0/1762 (0%)]\tLoss: 4.120688\tLabel Loss: 1.541280\n",
            "Epoch: 6 [640/1762 (36%)]\tLoss: 3.669544\tLabel Loss: 1.505773\n",
            "Epoch: 6 [1280/1762 (71%)]\tLoss: 3.992171\tLabel Loss: 1.472758\n",
            "Time used: 2\n",
            "\n",
            "Epoch: 6 \tVal Loss: 4.402826\n",
            "Epoch: 6 \tTest Loss: 4.256380\n",
            "\n",
            "Epoch: 7 [0/1762 (0%)]\tLoss: 3.887567\tLabel Loss: 1.448114\n",
            "Epoch: 7 [640/1762 (36%)]\tLoss: 3.751183\tLabel Loss: 1.419228\n",
            "Epoch: 7 [1280/1762 (71%)]\tLoss: 3.527580\tLabel Loss: 1.392979\n",
            "Time used: 2\n",
            "\n",
            "Epoch: 7 \tVal Loss: 4.053067\n",
            "Epoch: 7 \tTest Loss: 3.898832\n",
            "\n",
            "Epoch: 8 [0/1762 (0%)]\tLoss: 3.531275\tLabel Loss: 1.373399\n",
            "Epoch: 8 [640/1762 (36%)]\tLoss: 3.750326\tLabel Loss: 1.353104\n",
            "Epoch: 8 [1280/1762 (71%)]\tLoss: 2.986922\tLabel Loss: 1.332845\n",
            "Time used: 2\n",
            "\n",
            "Epoch: 8 \tVal Loss: 3.748723\n",
            "Epoch: 8 \tTest Loss: 3.596773\n",
            "\n",
            "Epoch: 9 [0/1762 (0%)]\tLoss: 3.545323\tLabel Loss: 1.320252\n",
            "Epoch: 9 [640/1762 (36%)]\tLoss: 3.191569\tLabel Loss: 1.305751\n",
            "Epoch: 9 [1280/1762 (71%)]\tLoss: 3.422862\tLabel Loss: 1.293391\n",
            "Time used: 2\n",
            "\n",
            "Epoch: 9 \tVal Loss: 3.512466\n",
            "Epoch: 9 \tTest Loss: 3.361205\n",
            "\n",
            "Epoch: 10 [0/1762 (0%)]\tLoss: 3.496138\tLabel Loss: 1.285623\n",
            "Epoch: 10 [640/1762 (36%)]\tLoss: 3.500673\tLabel Loss: 1.277489\n",
            "Epoch: 10 [1280/1762 (71%)]\tLoss: 2.958515\tLabel Loss: 1.269251\n",
            "Time used: 2\n",
            "\n",
            "Epoch: 10 \tVal Loss: 3.384041\n",
            "Epoch: 10 \tTest Loss: 3.227681\n",
            "\n",
            "Epoch: 11 [0/1762 (0%)]\tLoss: 3.116566\tLabel Loss: 1.261985\n",
            "Epoch: 11 [640/1762 (36%)]\tLoss: 3.315562\tLabel Loss: 1.254925\n",
            "Epoch: 11 [1280/1762 (71%)]\tLoss: 3.062168\tLabel Loss: 1.249629\n"
          ]
        }
      ]
    },
    {
      "cell_type": "code",
      "source": [
        "import numpy as np"
      ],
      "metadata": {
        "id": "P7JCx0SqB_fa"
      },
      "execution_count": 10,
      "outputs": []
    },
    {
      "cell_type": "code",
      "source": [
        "loss= np.load('/content/checkpoint/loss.npy')\n",
        "mae= np.load('/content/checkpoint/mae.npy')\n",
        "rmse= np.load('/content/checkpoint/rmse.npy')"
      ],
      "metadata": {
        "id": "aEGi57_BC2hx"
      },
      "execution_count": 11,
      "outputs": []
    },
    {
      "cell_type": "code",
      "source": [
        "print(loss.shape)\n",
        "print(mae.shape)\n",
        "print(rmse.shape)"
      ],
      "metadata": {
        "colab": {
          "base_uri": "https://localhost:8080/"
        },
        "id": "pu2VmymGC5gs",
        "outputId": "56fc4b63-5e1e-453e-9c6a-c20c0eb6ff77"
      },
      "execution_count": 12,
      "outputs": [
        {
          "output_type": "stream",
          "name": "stdout",
          "text": [
            "(3, 500)\n",
            "(2, 500)\n",
            "(2, 500)\n"
          ]
        }
      ]
    },
    {
      "cell_type": "code",
      "source": [
        "# Separate the train, val, and test losses\n",
        "train_loss = loss[0]\n",
        "val_loss = loss[1]\n",
        "test_loss = loss[2]\n",
        "val_mae = mae[0]\n",
        "test_mae = mae[1]\n",
        "val_rmse = rmse[0]\n",
        "test_rmse =rmse[1]"
      ],
      "metadata": {
        "id": "kyuBu5krC77h"
      },
      "execution_count": 13,
      "outputs": []
    },
    {
      "cell_type": "code",
      "source": [
        "import matplotlib.pyplot as plt"
      ],
      "metadata": {
        "id": "DpzPTzeHC-sB"
      },
      "execution_count": 14,
      "outputs": []
    },
    {
      "cell_type": "code",
      "source": [
        "x = np.arange(1, len(train_loss) + 1)\n",
        "\n",
        "# Plot the loss curve\n",
        "plt.plot(x, train_loss, label='Train Loss')\n",
        "plt.plot(x, val_loss, label='Validation Loss')\n",
        "plt.plot(x, test_loss, label='Test Loss')\n",
        "\n",
        "# Add labels and title\n",
        "plt.xlabel('Epoch')\n",
        "plt.ylabel('Loss')\n",
        "plt.title('Loss Curve')\n",
        "\n",
        "# Add legend\n",
        "plt.legend()\n",
        "#plt.savefig('loss_curve.pdf', bbox_inches='tight', pad_inches=0)\n",
        "# Display the plot\n",
        "plt.show()"
      ],
      "metadata": {
        "colab": {
          "base_uri": "https://localhost:8080/",
          "height": 472
        },
        "id": "tDmxStaoDA0h",
        "outputId": "1a21be92-eda2-406b-afd9-e4e0ba7894e5"
      },
      "execution_count": 15,
      "outputs": [
        {
          "output_type": "display_data",
          "data": {
            "text/plain": [
              "<Figure size 640x480 with 1 Axes>"
            ],
            "image/png": "[encoded data removed]"
          },
          "metadata": {}
        }
      ]
    },
    {
      "cell_type": "code",
      "source": [
        "print(test_rmse)"
      ],
      "metadata": {
        "colab": {
          "base_uri": "https://localhost:8080/"
        },
        "id": "7g1PhT6OdfEG",
        "outputId": "b36b5097-aaf2-4913-9904-ff27d081b972"
      },
      "execution_count": 16,
      "outputs": [
        {
          "output_type": "stream",
          "name": "stdout",
          "text": [
            "[38.29261   29.592548  23.075424  20.342754  16.345213  14.859886\n",
            " 13.655584  13.424133  13.468412  12.538648  13.329694  12.464248\n",
            " 11.892604  11.913853  12.246434  11.595763  11.197999  11.170232\n",
            " 11.429033  11.140147  10.766544  10.8912945 10.583759  10.249196\n",
            "  9.973234  10.043572   9.818309   9.611392   9.907135   9.788819\n",
            "  9.730468   9.415091   9.371181   9.428025   9.49327    9.038944\n",
            "  8.975831   9.120616   9.047525   8.993817   9.130395   9.015184\n",
            "  8.678345   8.961069   8.7483425  8.980591   8.631939   8.870977\n",
            "  8.836063   9.137798   8.867652   8.585568   8.772852   8.698452\n",
            "  8.660291   8.647028   8.851661   8.5959635  8.518499   8.508242\n",
            "  8.699988   8.629612   8.767946   8.465278   8.847163   8.459124\n",
            "  8.295985   8.321022   8.520564   8.363457   8.549309   8.490455\n",
            "  8.450747   8.65487    8.8563     8.464931   8.269133   8.251918\n",
            "  8.518839   8.308069   8.21812    8.256586   8.274407   8.249439\n",
            "  8.777693   8.364843   8.241424   8.451571   8.297095   8.451069\n",
            "  8.338262   8.475801   8.203615   8.305593   8.423242   8.165787\n",
            "  8.130113   8.262563   8.249482   8.22224    8.276712   8.27551\n",
            "  8.0715275  8.180656   8.260774   8.207568   8.377049   8.123171\n",
            "  8.190968   8.184356   8.167052   8.204106   8.120381   8.156235\n",
            "  8.044355   8.3337345  8.125324   8.114098   8.15519    8.109155\n",
            "  8.101785   8.107744   8.3446245  8.082347   7.9985156  8.109716\n",
            "  8.04463    8.042428   8.058928   8.004915   7.975728   8.099213\n",
            "  7.9352446  8.184411   8.030406   8.046023   8.145637   8.089025\n",
            "  8.2211     8.103558   8.065107   7.9504833  8.103127   8.075479\n",
            "  8.368971   8.130795   8.007468   8.343878   8.056642   7.9609127\n",
            "  8.133996   7.9274783  7.9021645  8.087934   7.9365807  8.0301895\n",
            "  7.917768   8.104427   8.130122   8.09408    8.069589   7.9529138\n",
            "  7.895145   8.157852   8.005367   7.9395013  7.9030666  7.9355717\n",
            "  7.9247155  8.040704   7.9344     8.082208   7.9373636  8.0013075\n",
            "  8.079249   8.214087   7.8968186  7.9370265  8.021189   7.854218\n",
            "  7.9252114  7.890656   7.9875064  7.952266   7.9601426  7.846026\n",
            "  7.8928785  8.160764   8.082795   7.9613223  7.978124   8.139393\n",
            "  8.147903   7.898269   7.8570347  7.9268217  8.02877    7.9068584\n",
            "  8.045611   8.070019   8.001958   7.906242   7.8991933  8.159815\n",
            "  7.9638324  8.042949   7.9744554  7.8523965  7.8674     7.9766603\n",
            "  7.9005256  8.512427   8.120934   8.128971   7.809488   8.021298\n",
            "  7.788573   8.035922   7.9695745  7.905258   8.0572405  7.926739\n",
            "  7.9029984  7.884906   7.803556   7.831241   7.8853564  7.792557\n",
            "  7.7626553  7.858149   8.045418   7.8086023  7.81462    8.02309\n",
            "  7.856616   7.868003   8.064408   7.8914213  7.795327   7.927106\n",
            "  7.9406195  7.9611154  7.88111    7.826743   7.832474   7.984164\n",
            "  7.826383   7.9329696  7.851662   7.863664   7.909942   8.07734\n",
            "  7.8913555  7.886881   7.7855096  7.836041   8.0469     7.8522143\n",
            "  8.053584   7.8595347  7.839458   7.994233   7.858287   7.791113\n",
            "  7.9165254  7.8807955  7.89066    7.966066   7.937277   7.848234\n",
            "  7.8989997  7.9900723  7.8488674  7.8230076  7.7661414  7.8068795\n",
            "  7.921983   7.9063544  7.7303944  7.7693567  7.832353   7.766774\n",
            "  7.8446746  7.972637   7.7310567  7.842391   7.819887   7.9695263\n",
            "  7.7460594  7.9383516  7.8167396  7.827342   7.775867   7.956909\n",
            "  7.966817   7.9298635  7.8786244  7.762884   7.8378544  7.9240265\n",
            "  7.759515   7.750316   8.01798    8.079043   7.76944    7.803654\n",
            "  7.8585434  7.845121   7.740208   7.7728686  7.8101563  7.826595\n",
            "  7.903911   7.800313   7.789071   7.8010345  7.7578154  7.857536\n",
            "  7.856856   7.9576845  7.7377996  7.787865   7.872872   7.7829127\n",
            "  7.9726624  7.7159166  7.8478293  7.8230886  7.953651   7.809128\n",
            "  7.9265904  7.8771963  7.741914   7.769078   7.9415884  7.721124\n",
            "  7.9958124  7.703178   7.7820992  7.822848   7.7458053  7.7668123\n",
            "  8.092907   7.750338   7.8877997  7.7623687  7.7284865  7.743732\n",
            "  7.829951   7.82889    7.9126453  7.7297688  7.8227873  7.8680844\n",
            "  7.761747   7.7974753  7.807717   7.7806497  7.8833113  7.795758\n",
            "  7.8904476  7.702213   7.6979084  7.7884808  7.7772565  7.8048325\n",
            "  7.762709   7.8056293  7.9733396  7.780057   7.7281647  7.7614636\n",
            "  7.851368   7.7968726  7.8798585  7.865937   7.832234   7.825886\n",
            "  7.7982316  7.888804   7.916003   7.739679   7.949436   7.7175007\n",
            "  7.7793508  7.990092   7.7914596  7.784299   7.817634   7.9157195\n",
            "  7.760994   7.896469   7.7377267  7.801197   7.7684584  7.971455\n",
            "  7.829606   7.8781714  7.9291105  7.792211   7.89054    7.763194\n",
            "  7.723944   7.743585   7.860301   7.682833   7.7740245  7.7182164\n",
            "  7.768226   7.8910565  7.750403   7.8381205  7.670702   7.811918\n",
            "  7.7404127  7.7301464  7.8564963  7.7237473  7.850494   8.311611\n",
            "  7.7185755  7.7169805  7.690641   7.7406445  7.733922   7.663986\n",
            "  7.809533   7.9428596  7.757022   7.746962   7.7490163  7.6904798\n",
            "  7.7818437  7.7188635  7.7637057  7.808349   7.709922   7.9466166\n",
            "  7.716274   7.7646923  7.7885013  7.674856   7.9485435  7.7358303\n",
            "  7.7898955  7.855907   7.8652186  7.7471876  7.79043    7.953539\n",
            "  7.758431   7.7951026  7.9014683  7.7231264  7.756867   7.6735964\n",
            "  7.784004   7.809299   7.7844543  7.799274   7.6942964  7.660443\n",
            "  7.9538693  7.7667418  7.8591466  7.9443426  7.7653403  7.7570686\n",
            "  7.794784   7.9089694  7.798879   7.895226   7.802792   7.7051167\n",
            "  7.625682   7.7745247  7.79614    7.762807   7.715199   7.7687283\n",
            "  7.75669    7.8347764  7.857895   7.894938   7.728743   7.7970014\n",
            "  7.9193873  7.7391405  7.5657353  7.7164264  7.8717737  7.9677634\n",
            "  7.724378   7.771985   7.6752973  7.743554   7.7387557  7.7372894\n",
            "  7.816235   7.705837 ]\n"
          ]
        }
      ]
    },
    {
      "cell_type": "code",
      "source": [
        "print(train_loss[-1])\n",
        "print(val_loss[-1])\n",
        "print(test_loss[-1])"
      ],
      "metadata": {
        "colab": {
          "base_uri": "https://localhost:8080/"
        },
        "id": "Pmy_6Cdqxfxl",
        "outputId": "3f0c498f-85dc-4e0e-cf42-543c4f425b9e"
      },
      "execution_count": 17,
      "outputs": [
        {
          "output_type": "stream",
          "name": "stdout",
          "text": [
            "2.060541\n",
            "2.1784139\n",
            "2.0491564\n"
          ]
        }
      ]
    },
    {
      "cell_type": "code",
      "source": [
        "print(val_mae[-1])\n",
        "print(test_mae[-1])"
      ],
      "metadata": {
        "colab": {
          "base_uri": "https://localhost:8080/"
        },
        "id": "5406crr1xtZ0",
        "outputId": "b55f8ad4-4597-40f1-82bf-511de2ad5be1"
      },
      "execution_count": 18,
      "outputs": [
        {
          "output_type": "stream",
          "name": "stdout",
          "text": [
            "5.1942244\n",
            "4.6461205\n"
          ]
        }
      ]
    },
    {
      "cell_type": "code",
      "source": [
        "print(val_rmse[-1])\n",
        "print(test_rmse[-1])"
      ],
      "metadata": {
        "colab": {
          "base_uri": "https://localhost:8080/"
        },
        "id": "-R6foOiIx0-P",
        "outputId": "3389e497-5063-4393-e7c5-797ed3d2d8a6"
      },
      "execution_count": 19,
      "outputs": [
        {
          "output_type": "stream",
          "name": "stdout",
          "text": [
            "9.517656\n",
            "7.705837\n"
          ]
        }
      ]
    },
    {
      "cell_type": "code",
      "source": [
        "# Calculate MSE\n",
        "mse_train = np.mean(train_loss)\n",
        "mse_val = np.mean(val_loss)\n",
        "mse_test = np.mean(test_loss)\n",
        "\n",
        "# Calculate MAE\n",
        "#mae_train = np.mean(np.abs(train_loss))\n",
        "mae_val = np.mean(val_mae)\n",
        "mae_test = np.mean(test_mae)\n",
        "\n",
        "# Calculate RMSE\n",
        "#rmse_train = np.sqrt(mse_train)\n",
        "rmse_val = np.mean(val_rmse)\n",
        "rmse_test = np.mean(test_rmse)\n",
        "\n",
        "# Print the results\n",
        "print(\"MSE - Train: {:.4f}, Validation: {:.4f}, Test: {:.4f}\".format(mse_train, mse_val, mse_test))\n",
        "print(\"MAE - Validation: {:.4f}, Test: {:.4f}\".format( mae_val, mae_test))\n",
        "print(\"RMSE - Validation: {:.4f}, Test: {:.4f}\".format( rmse_val, rmse_test))"
      ],
      "metadata": {
        "colab": {
          "base_uri": "https://localhost:8080/"
        },
        "id": "ANluzrtbDENx",
        "outputId": "dbd741a5-64e4-46d4-bc43-3d7451fbf32c"
      },
      "execution_count": 75,
      "outputs": [
        {
          "output_type": "stream",
          "name": "stdout",
          "text": [
            "MSE - Train: 2.2033, Validation: 2.2878, Test: 2.1453\n",
            "MAE - Validation: 5.8074, Test: 5.1713\n",
            "RMSE - Validation: 10.8471, Test: 8.7623\n"
          ]
        }
      ]
    }
  ]
}